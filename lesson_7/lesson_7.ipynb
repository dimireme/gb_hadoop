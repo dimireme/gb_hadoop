{
 "cells": [
  {
   "cell_type": "markdown",
   "metadata": {},
   "source": [
    "## Урок 7. Notebooks. Hue, Jupyter, Zeppelin.\n",
    "\n",
    "**1. На основе импортированных в Hbase данных создать любой график в Jupyter или Zeppelin.**"
   ]
  },
  {
   "cell_type": "code",
   "execution_count": 280,
   "metadata": {},
   "outputs": [],
   "source": [
    "# библиотека для подключения к БД hbase\n",
    "import happybase\n",
    "# библиотека для подсчёта количества элементов в строке\n",
    "from collections import Counter\n",
    "# библиотека для форматирования строки по регулярному выражению\n",
    "import re\n",
    "# библиотека для рисования графиков\n",
    "import matplotlib.pyplot as plt\n",
    "# библиотека для работы с массивами данных в python.\n",
    "import numpy as np\n",
    "# для рисования графиков в текущем окне\n",
    "%matplotlib inline"
   ]
  },
  {
   "cell_type": "markdown",
   "metadata": {},
   "source": [
    "Настроим соединение сбазой данных hbase."
   ]
  },
  {
   "cell_type": "code",
   "execution_count": 281,
   "metadata": {},
   "outputs": [],
   "source": [
    "connection = happybase.Connection(host='89.208.221.132', port=9090, autoconnect=True)"
   ]
  },
  {
   "cell_type": "markdown",
   "metadata": {},
   "source": [
    "Создадим таблицу `Student3_7` с семейством колонок `Message`."
   ]
  },
  {
   "cell_type": "code",
   "execution_count": 245,
   "metadata": {},
   "outputs": [],
   "source": [
    "connection.create_table(\n",
    "    'Student3_7',\n",
    "    { \n",
    "        'Message': dict() \n",
    "    }\n",
    ")"
   ]
  },
  {
   "cell_type": "code",
   "execution_count": 282,
   "metadata": {},
   "outputs": [],
   "source": [
    "table = connection.table('Student3_7')"
   ]
  },
  {
   "cell_type": "markdown",
   "metadata": {},
   "source": [
    "Колонку `Message:Text` заполним произвольным текстом."
   ]
  },
  {
   "cell_type": "code",
   "execution_count": 283,
   "metadata": {},
   "outputs": [],
   "source": [
    "with table.batch() as b:\n",
    "    b.put(b'Message1', {b'Message:Text': b'Lorem ipsum dolor sit amet, consectetur adipiscing elit, sed do eiusmod tempor incididunt ut labore et dolore magna aliqua. Lobortis scelerisque fermentum dui faucibus in ornare quam viverra orci. Vitae congue eu consequat ac felis donec et odio. Et leo duis ut diam. Egestas maecenas pharetra convallis posuere. Congue eu consequat ac felis donec. Id velit ut tortor pretium viverra suspendisse potenti. Sed risus pretium quam vulputate dignissim suspendisse in. Odio morbi quis commodo odio aenean sed. Vel orci porta non pulvinar neque. Tellus integer feugiat scelerisque varius morbi enim. Morbi tristique senectus et netus et. Ante metus dictum at tempor commodo ullamcorper a lacus vestibulum. Tristique sollicitudin nibh sit amet commodo nulla facilisi. Ut enim blandit volutpat maecenas volutpat blandit aliquam. Est ultricies integer quis auctor elit sed vulputate mi sit. Ut diam quam nulla porttitor massa. Adipiscing bibendum est ultricies integer quis auctor elit. At auctor urna nunc id cursus.'})\n",
    "    b.put(b'Message2', {b'Message:Text': b'Eget felis eget nunc lobortis mattis. Interdum posuere lorem ipsum dolor. Tellus integer feugiat scelerisque varius. Nisi vitae suscipit tellus mauris a diam. Metus aliquam eleifend mi in nulla posuere sollicitudin. Adipiscing diam donec adipiscing tristique risus. Cursus mattis molestie a iaculis. Semper quis lectus nulla at. Aliquam eleifend mi in nulla. Ultrices neque ornare aenean euismod elementum nisi quis. At in tellus integer feugiat scelerisque. Proin fermentum leo vel orci porta non pulvinar neque laoreet. Lectus magna fringilla urna porttitor rhoncus dolor purus non. Viverra vitae congue eu consequat ac felis.'})\n",
    "    b.put(b'Message3', {b'Message:Text': b'Tristique magna sit amet purus gravida quis. Sed euismod nisi porta lorem mollis aliquam. Est ultricies integer quis auctor. Ornare massa eget egestas purus viverra accumsan in nisl. Vestibulum sed arcu non odio. Libero enim sed faucibus turpis in eu. Sed tempus urna et pharetra pharetra massa massa. Lacus sed viverra tellus in hac. Lacus luctus accumsan tortor posuere ac ut consequat semper. Sapien pellentesque habitant morbi tristique senectus. Sit amet est placerat in egestas. Ornare quam viverra orci sagittis eu volutpat. Tellus integer feugiat scelerisque varius morbi enim nunc faucibus a. Pellentesque habitant morbi tristique senectus et netus. Consequat semper viverra nam libero justo laoreet sit.'})\n",
    "    b.put(b'Message4', {b'Message:Text': b'Malesuada bibendum arcu vitae elementum curabitur vitae nunc sed velit. Semper risus in hendrerit gravida rutrum quisque non tellus. Ornare aenean euismod elementum nisi quis eleifend quam. Iaculis eu non diam phasellus vestibulum lorem. Sollicitudin tempor id eu nisl nunc mi ipsum. Morbi tempus iaculis urna id volutpat lacus laoreet. Diam maecenas ultricies mi eget mauris pharetra. Faucibus purus in massa tempor nec feugiat nisl. Leo in vitae turpis massa sed elementum tempus. Purus in massa tempor nec feugiat nisl pretium. Quis hendrerit dolor magna eget est lorem. Cras tincidunt lobortis feugiat vivamus at augue eget arcu. Nam libero justo laoreet sit amet cursus sit. Tempor orci dapibus ultrices in iaculis nunc sed augue lacus. Elementum integer enim neque volutpat ac tincidunt vitae semper.'})\n",
    "    b.put(b'Message5', {b'Message:Text': b'Et molestie ac feugiat sed lectus. Nec feugiat nisl pretium fusce id velit ut tortor pretium. Bibendum arcu vitae elementum curabitur vitae. Turpis tincidunt id aliquet risus feugiat in. Vulputate dignissim suspendisse in est ante in nibh. Nisl nisi scelerisque eu ultrices. Aliquet bibendum enim facilisis gravida neque convallis a. Scelerisque in dictum non consectetur. Mi bibendum neque egestas congue. Augue mauris augue neque gravida in fermentum et. In tellus integer feugiat scelerisque varius. Lectus proin nibh nisl condimentum id venenatis. Adipiscing elit pellentesque habitant morbi. Ut sem nulla pharetra diam sit amet nisl suscipit adipiscing. Fermentum et sollicitudin ac orci phasellus egestas. Volutpat blandit aliquam etiam erat velit. Et sollicitudin ac orci phasellus egestas tellus rutrum tellus pellentesque. Habitasse platea dictumst vestibulum rhoncus est.'})"
   ]
  },
  {
   "cell_type": "markdown",
   "metadata": {},
   "source": [
    "Считаем данные из таблицы в массив строк `text_array`."
   ]
  },
  {
   "cell_type": "code",
   "execution_count": 285,
   "metadata": {},
   "outputs": [],
   "source": [
    "text_array = [data[b'Message:Text'].decode(\"utf-8\") for key, data in list(table.scan(row_start=b'Message'))]"
   ]
  },
  {
   "cell_type": "markdown",
   "metadata": {},
   "source": [
    "Далее посчитаем количество уникальных символов в каждой строке и в результат сохраним сумму для всех записей таблицы."
   ]
  },
  {
   "cell_type": "code",
   "execution_count": 286,
   "metadata": {},
   "outputs": [],
   "source": [
    "# Функция принимает произвольную строку.\n",
    "# Приводит строку к нижнему регистру.\n",
    "# Удаляет не буквенные символы.\n",
    "# Возвращает коллекцию Counter({ [char]: count }).\n",
    "def get_char_count(str):\n",
    "    return Counter(re.sub('\\W+','', str.lower()))"
   ]
  },
  {
   "cell_type": "code",
   "execution_count": 287,
   "metadata": {},
   "outputs": [],
   "source": [
    "counters = [get_char_count(str) for str in text_array]"
   ]
  },
  {
   "cell_type": "code",
   "execution_count": 288,
   "metadata": {},
   "outputs": [],
   "source": [
    "# Функция принимает массив коллекций Counter \n",
    "# Считает сумму всех коллекций\n",
    "# Возвращает два списка - список символов и список коилчества вхождений символа во все коллекции.\n",
    "# Списки отсортированы по убыванию counts.\n",
    "def get_counters_sum(collections):\n",
    "    result = Counter({})\n",
    "    for collection in collections:\n",
    "        result += collection\n",
    "    arr = np.array(result.most_common())\n",
    "    chars = arr[:,0]\n",
    "    counts = arr[:,1].astype('int')\n",
    "    return chars, counts"
   ]
  },
  {
   "cell_type": "code",
   "execution_count": 289,
   "metadata": {},
   "outputs": [],
   "source": [
    "chars, counts = get_counters_sum(counters)"
   ]
  },
  {
   "cell_type": "markdown",
   "metadata": {},
   "source": [
    "Построим бар-диаграмму количества вхождений каждой буквы во все строки."
   ]
  },
  {
   "cell_type": "code",
   "execution_count": 290,
   "metadata": {},
   "outputs": [
    {
     "data": {
      "image/png": "[encoded data removed]",
      "text/plain": [
       "<Figure size 432x288 with 1 Axes>"
      ]
     },
     "metadata": {
      "needs_background": "light"
     },
     "output_type": "display_data"
    }
   ],
   "source": [
    "plt.bar(chars, counts)\n",
    "plt.xlabel('char')\n",
    "plt.ylabel('total count')\n",
    "plt.grid()\n",
    "plt.show()"
   ]
  },
  {
   "cell_type": "code",
   "execution_count": 291,
   "metadata": {},
   "outputs": [
    {
     "name": "stdout",
     "output_type": "stream",
     "text": [
      "Всего в 5 записях 3358 текстовых символа.\n"
     ]
    }
   ],
   "source": [
    "print('Всего в {} записях {} текстовых символа.'.format(len(text_array), sum(counts)))"
   ]
  },
  {
   "cell_type": "code",
   "execution_count": null,
   "metadata": {},
   "outputs": [],
   "source": []
  }
 ],
 "metadata": {
  "kernelspec": {
   "display_name": "Python 3",
   "language": "python",
   "name": "python3"
  },
  "language_info": {
   "codemirror_mode": {
    "name": "ipython",
    "version": 3
   },
   "file_extension": ".py",
   "mimetype": "text/x-python",
   "name": "python",
   "nbconvert_exporter": "python",
   "pygments_lexer": "ipython3",
   "version": "3.7.4"
  }
 },
 "nbformat": 4,
 "nbformat_minor": 2
}
